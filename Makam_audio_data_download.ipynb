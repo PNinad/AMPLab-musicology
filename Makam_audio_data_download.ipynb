{
 "cells": [
  {
   "cell_type": "code",
   "execution_count": 1,
   "metadata": {},
   "outputs": [],
   "source": [
    "from compmusic import dunya\n",
    "from compmusic.dunya import makam\n",
    "from compmusic.dunya import docserver\n",
    "import numpy as np\n",
    "import matplotlib.pyplot as plt\n",
    "import numpy as np\n",
    "import os"
   ]
  },
  {
   "cell_type": "code",
   "execution_count": 2,
   "metadata": {},
   "outputs": [],
   "source": [
    "dunya.set_token('5523db6f2169631449c4a5b9642233f03b5792a8')"
   ]
  },
  {
   "cell_type": "code",
   "execution_count": 3,
   "metadata": {},
   "outputs": [],
   "source": [
    "concerts = makam.get_recordings()"
   ]
  },
  {
   "cell_type": "code",
   "execution_count": 4,
   "metadata": {},
   "outputs": [],
   "source": [
    "huseyni_concerts = list(filter(lambda c: 'Hüseyni' in c['title'], concerts))"
   ]
  },
  {
   "cell_type": "code",
   "execution_count": 5,
   "metadata": {},
   "outputs": [],
   "source": [
    "#huseyni_concerts"
   ]
  },
  {
   "cell_type": "code",
   "execution_count": 6,
   "metadata": {},
   "outputs": [],
   "source": [
    "mbids_list = [rec['mbid'] for rec in huseyni_concerts]\n"
   ]
  },
  {
   "cell_type": "code",
   "execution_count": 7,
   "metadata": {},
   "outputs": [],
   "source": [
    "#mbids_list"
   ]
  },
  {
   "cell_type": "code",
   "execution_count": 8,
   "metadata": {},
   "outputs": [
    {
     "name": "stdout",
     "output_type": "stream",
     "text": [
      "audioanalysis,tonic ['0.1']\n",
      "audioanalysis,pitch_class_distribution ['0.1']\n",
      "audioanalysis,note_models ['0.1']\n",
      "audioanalysis,melodic_progression ['0.1']\n",
      "audioanalysis,metadata ['0.1']\n",
      "audioanalysis,pitch_distribution ['0.1']\n",
      "audioanalysis,pitch ['0.1']\n",
      "audioanalysis,makam ['0.1']\n",
      "audioanalysis,transposition ['0.1']\n",
      "audioanalysis,pitch_filtered ['0.1']\n",
      "jointanalysis,tonic ['0.1']\n",
      "jointanalysis,note_models ['0.1']\n",
      "jointanalysis,pitch ['0.1']\n",
      "jointanalysis,transposition ['0.1']\n",
      "jointanalysis,sections ['0.1']\n",
      "jointanalysis,makam ['0.1']\n",
      "jointanalysis,tempo ['0.1']\n",
      "jointanalysis,pitch_class_distribution ['0.1']\n",
      "jointanalysis,works_intervals ['0.1']\n",
      "jointanalysis,pitch_distribution ['0.1']\n",
      "jointanalysis,melodic_progression ['0.1']\n",
      "jointanalysis,notes ['0.1']\n",
      "tomatodunya,pitchmax ['0.1']\n",
      "lyrics-align,alignedLyricsSyllables ['0.1']\n",
      "lyrics-align,sectionlinks ['0.1']\n"
     ]
    }
   ],
   "source": [
    "## This cell is to find out how the data is organized for makam in docserver\n",
    "\n",
    "document_details = docserver.document(mbids_list[0])\n",
    "\n",
    "for document_type, data in document_details['derivedfiles'].items():    \n",
    "    for subtype, metadata in data.items():        \n",
    "        if metadata['mimetype'] == 'application/json':            \\\n",
    "            print('{},{}'.format(document_type, subtype), metadata['versions'])\n"
   ]
  },
  {
   "cell_type": "code",
   "execution_count": 9,
   "metadata": {},
   "outputs": [],
   "source": [
    "pitch_data = docserver.get_document_as_json(mbids_list[0], 'audioanalysis' ,'pitch')\n",
    "#pitch_class_dist_data = docserver.get_document_as_json(mbids_list[0], 'audioanalysis' ,'pitch_class_distribution')\n"
   ]
  },
  {
   "cell_type": "code",
   "execution_count": 10,
   "metadata": {},
   "outputs": [
    {
     "data": {
      "text/plain": [
       "array([0., 0., 0., ..., 0., 0., 0.])"
      ]
     },
     "execution_count": 10,
     "metadata": {},
     "output_type": "execute_result"
    }
   ],
   "source": [
    "np.array(pitch_data['pitch'])[:,1]"
   ]
  },
  {
   "cell_type": "code",
   "execution_count": 11,
   "metadata": {},
   "outputs": [],
   "source": [
    "#### The task is now to extract pitch_data['pitch'] fields for all mbids and save as csv"
   ]
  },
  {
   "cell_type": "code",
   "execution_count": 12,
   "metadata": {},
   "outputs": [],
   "source": [
    "! mkdir -p makam_audio_pitch_data"
   ]
  },
  {
   "cell_type": "code",
   "execution_count": 13,
   "metadata": {},
   "outputs": [],
   "source": [
    "save_path = 'makam_audio_pitch_data'\n",
    "for mbid in mbids_list[:10]:     # download 10 audio files foe makam\n",
    "    if os.path.isfile(os.path.join(save_path, mbid+\"_pitch_data.csv\")):\n",
    "        continue\n",
    "    \n",
    "    pitch_data = docserver.get_document_as_json(mbid, 'audioanalysis' ,'pitch')\n",
    "    np.savetxt(os.path.join(save_path, mbid+\"_pitch_data.csv\"), np.array(pitch_data['pitch']), delimiter=\",\")\n",
    "    "
   ]
  },
  {
   "cell_type": "code",
   "execution_count": 14,
   "metadata": {},
   "outputs": [],
   "source": [
    "mbid = '56b567da-b428-45cd-b76a-b944a91bf876'    # this particular file is almost fully annotated with scores\n",
    "pitch_data = docserver.get_document_as_json(mbid, 'audioanalysis' ,'pitch')\n",
    "np.savetxt(os.path.join(mbid+\"_pitch_data.csv\"), np.array(pitch_data['pitch']), delimiter=\",\")"
   ]
  },
  {
   "cell_type": "code",
   "execution_count": null,
   "metadata": {},
   "outputs": [],
   "source": []
  }
 ],
 "metadata": {
  "kernelspec": {
   "display_name": "Python 3",
   "language": "python",
   "name": "python3"
  },
  "language_info": {
   "codemirror_mode": {
    "name": "ipython",
    "version": 3
   },
   "file_extension": ".py",
   "mimetype": "text/x-python",
   "name": "python",
   "nbconvert_exporter": "python",
   "pygments_lexer": "ipython3",
   "version": "3.6.7"
  }
 },
 "nbformat": 4,
 "nbformat_minor": 2
}
